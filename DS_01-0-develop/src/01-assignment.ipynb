{
 "cells": [
  {
   "cell_type": "markdown",
   "id": "fffcbb2c-4423-4f1c-bc90-e1ac7fbaa456",
   "metadata": {},
   "source": [
    "# Задания "
   ]
  },
  {
   "cell_type": "markdown",
   "id": "c2d747fe-7b74-43e0-95b3-16525e9846ac",
   "metadata": {},
   "source": [
    "## Task 1"
   ]
  },
  {
   "cell_type": "markdown",
   "id": "685b3747-2ce6-434d-8969-a91baddbf85a",
   "metadata": {},
   "source": [
    "Напиши код, который будет решать квадратное уравнение вида\n",
    "$ax^2 + bx + c = 0$. \\\n",
    "Для этого понадобится найти дискриминант. Его формула - $ D = b^2 − 4ac $"
   ]
  },
  {
   "attachments": {},
   "cell_type": "markdown",
   "id": "20bf557b-21f9-46fa-b8db-76b7a96526f4",
   "metadata": {},
   "source": [
    "Для начала напиши формулу нахождения корней квадратного уравнения на языке LaTeX\n",
    "\n",
    "$ x = \\frac{{ - b \\pm \\sqrt {b^2 - 4ac} }}{{2a}} $"
   ]
  },
  {
   "cell_type": "markdown",
   "id": "c78b058d-777d-4369-b86d-0c0fc013eba9",
   "metadata": {},
   "source": [
    "Теперь, когда ты вспомнил как находить корни, приступай к написанию функции:\n",
    "- Функция принимает на вход коэффициент a, b, c.\n",
    "- Функция должна возвращать кортеж корней уравнения. \n",
    "- Если корней у уравнения нет, то функция должна вернуть None"
   ]
  },
  {
   "cell_type": "code",
   "execution_count": 25,
   "id": "a0b6302c",
   "metadata": {},
   "outputs": [
    {
     "name": "stdout",
     "output_type": "stream",
     "text": [
      "None\n"
     ]
    }
   ],
   "source": [
    "import math\n",
    "\n",
    "def quadratic_equation(a, b, c):  \n",
    "    dis = b * b - 4 * a * c  \n",
    "    sqrt_dis = math.sqrt(abs(dis))\n",
    "    if a == 0:\n",
    "        if b != 0:\n",
    "            res = ((-c / b),)\n",
    "        if b == 0 and c == 0:\n",
    "            res = \"Infinite number of solutions\"\n",
    "        if a == 0 and b == 0 and c != 0:\n",
    "            res = \"с != 0, no roots\"\n",
    "    else:\n",
    "        if dis > 0:  \n",
    "            print(\"real and different roots \") \n",
    "            x1 = ((-b + sqrt_dis) / (2 * a))  \n",
    "            x2 = ((-b - sqrt_dis) / (2 * a)) \n",
    "            res = (x1, x2)\n",
    "        elif dis == 0:\n",
    "            print(\"real and same roots\")  \n",
    "            res = ((-b / (2 * a)),)\n",
    "        else:    \n",
    "            res = None\n",
    "    return res\n",
    "print(quadratic_equation(float(input()), float(input()), float(input())))"
   ]
  },
  {
   "cell_type": "markdown",
   "id": "a8541146-f127-4482-b067-279d50975dac",
   "metadata": {},
   "source": [
    "## Task 2"
   ]
  },
  {
   "cell_type": "markdown",
   "id": "816c48be-0963-4bd6-bd86-c8172eb8968e",
   "metadata": {},
   "source": [
    "Функция, которая на вход принимает cписок случайных чисел, а возвращает уже отсортированный методом Пузырька по возрастанию."
   ]
  },
  {
   "cell_type": "code",
   "execution_count": 36,
   "id": "3fbaf6b3-876f-4ecf-9be6-d26181ee3a48",
   "metadata": {},
   "outputs": [
    {
     "name": "stdout",
     "output_type": "stream",
     "text": [
      "[-96565, -79988, -75042, -58317, -36675, -3023, 2252, 38687, 40690, 45855]\n"
     ]
    }
   ],
   "source": [
    "import random\n",
    "\n",
    "def bubble_sort(lst):\n",
    "    length = len(lst)\n",
    "    for i in range(length - 1):\n",
    "        for j in range(0, length - i - 1):\n",
    "            if lst[j] > lst[j + 1]:\n",
    "                temp = lst[j]\n",
    "                lst[j] = lst[j + 1]\n",
    "                lst[j + 1] = temp\n",
    "    return lst\n",
    "print(bubble_sort(random.sample(range(-99999, 99999), 10)))"
   ]
  },
  {
   "cell_type": "markdown",
   "id": "0026496c-03a8-4fcc-907b-dfb8f3fc0efb",
   "metadata": {},
   "source": [
    "## Task 3"
   ]
  },
  {
   "cell_type": "markdown",
   "id": "688251be-39a3-49ed-9993-a5f9b39f430d",
   "metadata": {},
   "source": [
    "Самое часто встречающееся слово в романе \"Война и Мир\" без учета:\n",
    "   * Пунктуации\n",
    "   * Слов **короче четырех** символов \n",
    "   * 'Стоп-слов', которые приведены в файле в stop_words_russian.txt"
   ]
  },
  {
   "cell_type": "code",
   "execution_count": 1,
   "id": "fac779a9",
   "metadata": {},
   "outputs": [],
   "source": [
    "import string"
   ]
  },
  {
   "cell_type": "code",
   "execution_count": 2,
   "id": "94501d71-ee88-4f78-808d-20e79a5f3707",
   "metadata": {},
   "outputs": [],
   "source": [
    "with open('../datasets/stop_words_russian.txt') as fin:\n",
    "    stop_words = fin.read()"
   ]
  },
  {
   "cell_type": "code",
   "execution_count": 3,
   "id": "aee463be",
   "metadata": {},
   "outputs": [],
   "source": [
    "stop_words = stop_words.splitlines()"
   ]
  },
  {
   "cell_type": "code",
   "execution_count": 4,
   "id": "58e3d6c4",
   "metadata": {},
   "outputs": [],
   "source": [
    "with open('../datasets/war_and_peace.txt') as nov:\n",
    "    novel = nov.read()"
   ]
  },
  {
   "cell_type": "code",
   "execution_count": 5,
   "id": "33562329",
   "metadata": {},
   "outputs": [],
   "source": [
    "novel = novel.lower()"
   ]
  },
  {
   "cell_type": "code",
   "execution_count": 6,
   "id": "1123303d",
   "metadata": {},
   "outputs": [],
   "source": [
    "for val in string.punctuation:\n",
    "    if val in novel:\n",
    "        novel = novel.replace(val, \"\")"
   ]
  },
  {
   "cell_type": "code",
   "execution_count": 7,
   "id": "bff655f7",
   "metadata": {},
   "outputs": [],
   "source": [
    "novel_split = novel.split()"
   ]
  },
  {
   "cell_type": "code",
   "execution_count": 8,
   "id": "59d74608",
   "metadata": {},
   "outputs": [],
   "source": [
    "for word in novel_split:\n",
    "    if len(word) < 4:\n",
    "        novel_split.remove(word)"
   ]
  },
  {
   "cell_type": "code",
   "execution_count": 9,
   "id": "9df6a4d4",
   "metadata": {},
   "outputs": [],
   "source": [
    "for stop in stop_words:\n",
    "    for word_nov in novel_split:\n",
    "        if stop == word_nov:\n",
    "            novel_split.remove(word_nov)"
   ]
  },
  {
   "cell_type": "code",
   "execution_count": 13,
   "id": "85692589",
   "metadata": {},
   "outputs": [
    {
     "name": "stdout",
     "output_type": "stream",
     "text": [
      "пьер\n"
     ]
    }
   ],
   "source": [
    "words_set = sorted(set(novel_split))\n",
    "freq_dict = {}\n",
    "for o in words_set:\n",
    "    freq_dict[o] = novel_split.count(o)\n",
    "common_occurance_lst = sorted(freq_dict.items(), key=lambda x: (-x[1], x[0]))\n",
    "print(common_occurance_lst[0][0])"
   ]
  },
  {
   "cell_type": "markdown",
   "id": "d4b6f922-7a22-4b38-8529-c92994edd38c",
   "metadata": {},
   "source": [
    "## Task 4"
   ]
  },
  {
   "cell_type": "markdown",
   "id": "c2cef602-ab87-47f8-ab2c-e323442b62f7",
   "metadata": {},
   "source": [
    "Функция для расчета числа Фибоначчи с использованием рекурсивной функции."
   ]
  },
  {
   "cell_type": "code",
   "execution_count": 26,
   "id": "ec1c1860-774d-4583-a44b-bdc30492eead",
   "metadata": {},
   "outputs": [
    {
     "name": "stdout",
     "output_type": "stream",
     "text": [
      "1\n"
     ]
    }
   ],
   "source": [
    "def fib(n):\n",
    "    if n == 1:\n",
    "        return 0\n",
    "    if n == 2:\n",
    "        return 1\n",
    "    return fib(n - 1) + fib(n - 2)\n",
    "print(fib(3))"
   ]
  },
  {
   "cell_type": "markdown",
   "id": "1acc3069-4b1a-4a5c-98e4-055731203d2d",
   "metadata": {},
   "source": [
    "## Task 5"
   ]
  },
  {
   "cell_type": "markdown",
   "id": "944e804e-fb40-4ea2-b931-38b595d3c262",
   "metadata": {},
   "source": [
    "Функция перевода валюты в рубли."
   ]
  },
  {
   "cell_type": "code",
   "execution_count": 31,
   "id": "082f6ec2",
   "metadata": {},
   "outputs": [],
   "source": [
    "import requests"
   ]
  },
  {
   "cell_type": "code",
   "execution_count": 35,
   "id": "570cfb71-5cf0-41fc-aae7-cf2b2812eaca",
   "metadata": {},
   "outputs": [
    {
     "name": "stdout",
     "output_type": "stream",
     "text": [
      "8655.91\n"
     ]
    }
   ],
   "source": [
    "def convert2RU(currency, value):\n",
    "    response = requests.get('https://www.cbr-xml-daily.ru/daily_json.js')\n",
    "    response_dict = response.json()\n",
    "    need_num = response_dict['Valute'][currency]['Value']\n",
    "    mul_num = need_num * value\n",
    "    return mul_num\n",
    "print(convert2RU('GBP', 100))"
   ]
  },
  {
   "cell_type": "markdown",
   "id": "fe1396fa-7109-48ad-a255-4d4f622c18a4",
   "metadata": {},
   "source": [
    "## *Task 6. Дополнительное задание"
   ]
  },
  {
   "cell_type": "markdown",
   "id": "71315701-39bd-4759-afd9-7bf20486b4f7",
   "metadata": {},
   "source": [
    "Написание проверки на пaлиндром."
   ]
  },
  {
   "cell_type": "markdown",
   "id": "715fd45b-eb76-4eb5-bbd8-a257035fe892",
   "metadata": {},
   "source": [
    "1. На вход функции _isPalindrome_ подается **число** (int). \\\n",
    "Функция возвращает **True**, если число является палидромом и **False** в противном случае. "
   ]
  },
  {
   "cell_type": "code",
   "execution_count": 38,
   "id": "9f48d9c7-c413-47fb-b692-ce5ad8ed9ec1",
   "metadata": {},
   "outputs": [
    {
     "name": "stdout",
     "output_type": "stream",
     "text": [
      "True\n"
     ]
    }
   ],
   "source": [
    "def isPalindrome(x: int) -> bool:\n",
    "    get_str = str(x)\n",
    "    if (get_str == get_str[::-1]):\n",
    "        return True\n",
    "    return False\n",
    "print(isPalindrome(123321))"
   ]
  },
  {
   "cell_type": "markdown",
   "id": "e86f6f7c-c3b0-4b92-bb3d-651dcc7d4706",
   "metadata": {},
   "source": [
    "2. Реализация функции без использования перевода числа в строку."
   ]
  },
  {
   "cell_type": "code",
   "execution_count": 43,
   "id": "4f1c1625",
   "metadata": {},
   "outputs": [
    {
     "name": "stdout",
     "output_type": "stream",
     "text": [
      "True\n"
     ]
    }
   ],
   "source": [
    "def isPalindrome_v2(x: int) -> bool:\n",
    "        if x < 0:\n",
    "            return False\n",
    "        reverse_x = 0\n",
    "        temp = x\n",
    "        while temp != 0:\n",
    "            current = temp % 10\n",
    "            reverse_x = reverse_x * 10 + current\n",
    "            temp = temp // 10\n",
    "        if reverse_x == x:\n",
    "            return True\n",
    "        else:\n",
    "            return False\n",
    "print(isPalindrome_v2(1233321))"
   ]
  }
 ],
 "metadata": {
  "kernelspec": {
   "display_name": "Python 3",
   "language": "python",
   "name": "python3"
  },
  "language_info": {
   "codemirror_mode": {
    "name": "ipython",
    "version": 3
   },
   "file_extension": ".py",
   "mimetype": "text/x-python",
   "name": "python",
   "nbconvert_exporter": "python",
   "pygments_lexer": "ipython3",
   "version": "3.11.1"
  },
  "vscode": {
   "interpreter": {
    "hash": "aee8b7b246df8f9039afb4144a1f6fd8d2ca17a180786b69acc140d282b71a49"
   }
  }
 },
 "nbformat": 4,
 "nbformat_minor": 5
}
